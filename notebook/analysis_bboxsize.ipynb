{
 "cells": [
  {
   "cell_type": "code",
   "execution_count": 34,
   "metadata": {},
   "outputs": [],
   "source": [
    "import cv2\n",
    "import random\n",
    "import os, sys\n",
    "import glob\n",
    "import argparse\n",
    "import numpy as np\n",
    "from tqdm import tqdm\n",
    "import matplotlib.pyplot as plt\n",
    "import xml.etree.ElementTree as ET\n",
    "\n",
    "import os.path as osp\n",
    "sys.path.insert(0, osp.join(os.getcwd(), '../', 'tools'))\n",
    "import utils\n",
    "from datasets import get_dataset\n",
    "\n",
    "import pdb\n",
    "import traceback"
   ]
  },
  {
   "cell_type": "code",
   "execution_count": 3,
   "metadata": {},
   "outputs": [],
   "source": [
    "def parse_xml(file):\n",
    "    xml = ET.parse(file).getroot()\n",
    "    box_all = []\n",
    "    pts = ['xmin', 'ymin', 'xmax', 'ymax']\n",
    "\n",
    "    # size\n",
    "    size = xml.find('size')\n",
    "    width = int(size.find('width').text)\n",
    "    height = int(size.find('height').text)\n",
    "\n",
    "    # bounding boxes\n",
    "    for obj in xml.iter('object'):\n",
    "        bbox = obj.find('bndbox')\n",
    "        \n",
    "        bndbox = []\n",
    "        for i, pt in enumerate(pts):\n",
    "            cur_pt = int(bbox.find(pt).text) - 1\n",
    "            bndbox.append(cur_pt)\n",
    "        box_all += [bndbox]\n",
    "    return box_all, (width, height)"
   ]
  },
  {
   "cell_type": "code",
   "execution_count": 39,
   "metadata": {},
   "outputs": [
    {
     "name": "stderr",
     "output_type": "stream",
     "text": [
      "100%|███████████████████████████████████████| 6471/6471 [01:28<00:00, 73.38it/s]\n"
     ]
    }
   ],
   "source": [
    "dataset = get_dataset('VisDrone')\n",
    "\n",
    "bbox_cnt = 0\n",
    "origin_bboxsize = []\n",
    "train_list = dataset.get_imglist(split='train')\n",
    "for img_path in tqdm(train_list, ncols=80):\n",
    "    img = cv2.imread(img_path)\n",
    "    height, width = img.shape[:2]\n",
    "    label, _ = dataset.get_gtbox(img_path)\n",
    "    bbox_cnt += len(label)\n",
    "    for box in label:\n",
    "        origin_bboxsize.append((box[2] - box[0]) / width*1920)"
   ]
  },
  {
   "cell_type": "code",
   "execution_count": 33,
   "metadata": {
    "scrolled": false
   },
   "outputs": [
    {
     "data": {
      "image/png": "[encoded data removed]",
      "text/plain": [
       "<Figure size 720x288 with 1 Axes>"
      ]
     },
     "metadata": {
      "needs_background": "light"
     },
     "output_type": "display_data"
    }
   ],
   "source": [
    "bins = [x*5+0 for x in range(0, 50)]\n",
    "plt.rcParams['savefig.dpi'] = 300\n",
    "plt.figure(figsize=(10,4))\n",
    "n, bins, patches = plt.hist(origin_bboxsize, bins=bins, density=False, label='bbox size', histtype='bar')\n",
    "plt.legend()\n",
    "plt.xlabel('bbox size')\n",
    "plt.ylabel('nums')\n",
    "\n",
    "plt.title(u'Instances per size')\n",
    "plt.savefig('visdrone_bbox.jpg')\n",
    "\n",
    "plt.show()"
   ]
  },
  {
   "cell_type": "code",
   "execution_count": 21,
   "metadata": {},
   "outputs": [
    {
     "data": {
      "text/plain": [
       "<Figure size 432x288 with 0 Axes>"
      ]
     },
     "metadata": {},
     "output_type": "display_data"
    }
   ],
   "source": []
  },
  {
   "cell_type": "code",
   "execution_count": 28,
   "metadata": {},
   "outputs": [
    {
     "name": "stdout",
     "output_type": "stream",
     "text": [
      "[ 3288. 30038. 33762. 36684. 32316. 23814. 23201. 19675. 14377. 15232.\n",
      " 12763.  9668. 10029.  8166.  6801.  6363.  5118.  4972.  4634.  3651.\n",
      "  3855.  3244.  2590.  2656.  2540.  1916.  1981.  1831.  1389.  1460.\n",
      "  1308.  1041.  1112.   879.   864.   829.   609.   677.   625.   488.\n",
      "   562.   458.   399.   425.   383.   297.   328.   236.   287.] [  0   5  10  15  20  25  30  35  40  45  50  55  60  65  70  75  80  85\n",
      "  90  95 100 105 110 115 120 125 130 135 140 145 150 155 160 165 170 175\n",
      " 180 185 190 195 200 205 210 215 220 225 230 235 240 245] <a list of 49 Patch objects>\n"
     ]
    }
   ],
   "source": [
    "print(n, bins, patches)"
   ]
  },
  {
   "cell_type": "code",
   "execution_count": 29,
   "metadata": {},
   "outputs": [
    {
     "data": {
      "text/plain": [
       "0.8962130062591777"
      ]
     },
     "execution_count": 29,
     "metadata": {},
     "output_type": "execute_result"
    }
   ],
   "source": [
    "sum(n[:20])/sum(n)"
   ]
  },
  {
   "cell_type": "code",
   "execution_count": 41,
   "metadata": {},
   "outputs": [
    {
     "data": {
      "text/plain": [
       "53.037397620151445"
      ]
     },
     "execution_count": 41,
     "metadata": {},
     "output_type": "execute_result"
    }
   ],
   "source": [
    "bbox_cnt / len(train_list)"
   ]
  },
  {
   "cell_type": "code",
   "execution_count": null,
   "metadata": {},
   "outputs": [],
   "source": []
  }
 ],
 "metadata": {
  "kernelspec": {
   "display_name": "Python 3",
   "language": "python",
   "name": "python3"
  },
  "language_info": {
   "codemirror_mode": {
    "name": "ipython",
    "version": 3
   },
   "file_extension": ".py",
   "mimetype": "text/x-python",
   "name": "python",
   "nbconvert_exporter": "python",
   "pygments_lexer": "ipython3",
   "version": "3.7.4"
  }
 },
 "nbformat": 4,
 "nbformat_minor": 2
}
