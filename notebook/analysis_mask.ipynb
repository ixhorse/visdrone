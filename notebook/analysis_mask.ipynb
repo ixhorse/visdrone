{
 "cells": [
  {
   "cell_type": "code",
   "execution_count": 1,
   "metadata": {},
   "outputs": [],
   "source": [
    "import cv2\n",
    "import random\n",
    "import os, sys\n",
    "import glob\n",
    "import numpy as np\n",
    "from tqdm import tqdm\n",
    "import matplotlib.pyplot as plt\n",
    "\n",
    "import os.path as osp\n",
    "sys.path.insert(0, osp.join(os.getcwd(), '../', 'tools'))\n",
    "import utils\n",
    "from datasets import get_dataset"
   ]
  },
  {
   "cell_type": "code",
   "execution_count": 2,
   "metadata": {},
   "outputs": [],
   "source": [
    "dataset = get_dataset('TT100K')\n",
    "mask_dir = dataset.region_voc_dir + '/SegmentationClass'\n",
    "\n",
    "total = 0\n",
    "cnt = 0\n",
    "for name in os.listdir(mask_dir):\n",
    "    mask = cv2.imread(os.path.join(mask_dir, name), cv2.IMREAD_GRAYSCALE)\n",
    "    cnt += mask.sum()\n",
    "    total += mask.shape[0] * mask.shape[1]"
   ]
  },
  {
   "cell_type": "code",
   "execution_count": 3,
   "metadata": {},
   "outputs": [
    {
     "name": "stdout",
     "output_type": "stream",
     "text": [
      "0.002031719561325461\n"
     ]
    }
   ],
   "source": [
    "print(cnt / total)"
   ]
  },
  {
   "cell_type": "code",
   "execution_count": 3,
   "metadata": {},
   "outputs": [
    {
     "name": "stdout",
     "output_type": "stream",
     "text": [
      "0.006384587422755362\n"
     ]
    }
   ],
   "source": [
    "print(cnt / total)"
   ]
  },
  {
   "cell_type": "code",
   "execution_count": null,
   "metadata": {},
   "outputs": [],
   "source": []
  }
 ],
 "metadata": {
  "kernelspec": {
   "display_name": "Python 3",
   "language": "python",
   "name": "python3"
  },
  "language_info": {
   "codemirror_mode": {
    "name": "ipython",
    "version": 3
   },
   "file_extension": ".py",
   "mimetype": "text/x-python",
   "name": "python",
   "nbconvert_exporter": "python",
   "pygments_lexer": "ipython3",
   "version": "3.7.4"
  }
 },
 "nbformat": 4,
 "nbformat_minor": 2
}
